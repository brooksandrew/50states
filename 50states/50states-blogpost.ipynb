{
 "cells": [
  {
   "cell_type": "markdown",
   "metadata": {},
   "source": [
    "#### Motivation\n",
    "\n",
    "Recently I spent a considerable amount of time writing the [postman_problems] python library implementing solvers for the Chinese and Rural Postman Problems (CPP and RPP respectively).  I wrote about my initial motivation for the project: finding the optimal route through a trail system in a state park [here][sleeping_giant_cpp_post].  Although I've still yet to run the 34 mile optimal trail route, I am pleased with the optimization procedure.  However, I couldn't help but feel that all those nights and weekends hobbying on this thing deserved a more satisfying visual than my static SVGs and hacky GIF.  So to spice it up, I decided to solve the RPP on a graph derived from geodata and visualize on an interactive Leaflet map.\n",
    "\n",
    "\n",
    "#### The Problem\n",
    "\n",
    "In short, ride all 50 state named avenues in DC end-to-end following the shortest route possible.\n",
    "\n",
    "There happens to be an annual [50 states ride] sponsored by our regional bike association, [WABA], that takes riders to each of the 50<sup>†</sup> state named avenues in DC.  Each state's avenue is *touched*, but not covered in full.  This problem takes it a step further by instituting this requirement.  Thus, it boils to the RPP where the required edges are state avenues (end-to-end) and the optional edges are every other road within DC city limits.\n",
    "\n",
    "For those unfamiliar with DC street naming convention, that can (and should) be remedied with a read through the history behind the street system [here][dc_avenues_facts].  Seriously, it's an interesting read.  Basically there are 50 state named avenues in DC ranging from 0.3 miles (Indiana Avenue) to 10 miles (Massachusetts Avenue) comprising [115 miles] in total.\n",
    "\n",
    "\n",
    "#### The Solution\n",
    "\n",
    "The data is grabbed from Open Street Maps (OSM).  Most of the post is spent wrangling the OSM geodata into shape for the RPP algorithm using NetworkX graphs.  The final route (and intermediate steps) are visualized using Leaflet maps through [mplleaflet] which enable interactivity using tiles from Mapbox and CartoDB among others.\n",
    "\n",
    "Note to readers: the rendering of these maps can work the browser pretty hard; allow a couple extra seconds for loading.\n",
    "\n",
    "\n",
    "#### The Approach\n",
    "\n",
    "Most of the heavy lifting leverages functions from the [graph.py] module in the [postman_problems_examples] repo.  The majority of pre-RPP processing employs heuristics that simplify the computation such that this code can run in a reasonable amount of time.  The parameters employed here, which I believe get pretty darn close to the optimal solution, run in about 50 minutes.  By tweaking a couple parameters, accuracy can be sacrificed for time to get run time down to ~5 minutes on a standard 4 core laptop.\n",
    "\n",
    "Verbose technical details about the guts of each step are omitted from this post for readability.  However the interested reader can find these in the docstrings in [graph.py].\n",
    " \n",
    "The table of contents below provides the best high-level summary of the approach.  All code needed to reproduce this analysis is in the [postman_problems_examples] repo, including the jupyter notebook used to author this blog post and a conda environment.\n",
    "\n",
    "\n",
    "<sup>†</sup> While there are 50 *roadways*, there are technically only 48 state named *avenues*: Ohio Drive and California Street are the stubborn exceptions.\n",
    "\n",
    "#### Table of Contents\n",
    "\n",
    "[50 states ride]: https://org.salsalabs.com/o/451/p/salsa/event/common/public/?event_KEY=99906 \n",
    "[WABA]: http://www.waba.org/\n",
    "[postman_problems]: https://github.com/brooksandrew/postman_problems\n",
    "[sleeping_giant_cpp_post]:http://brooksandrew.github.io/simpleblog/articles/intro-to-graph-optimization-solving-cpp/\n",
    "\n",
    "[dc_avenues_facts]:https://dc.curbed.com/2014/8/13/10061100/facts-and-myths-about-dcs-street-system\n",
    "[115 miles]: https://en.wikipedia.org/wiki/List_of_state-named_roadways_in_Washington,_D.C.#cite_note-AL2-2\n",
    "[mplleaflet]:https://github.com/jwass/mplleaflet\n",
    "[graph.py]: https://github.com/brooksandrew/postman_problems_examples/blob/master/graph.py\n",
    "[postman_problems_examples]: https://github.com/brooksandrew/postman_problems_examples\n",
    "\n"
   ]
  },
  {
   "cell_type": "markdown",
   "metadata": {},
   "source": [
    "\n",
    "* Table of Contents\n",
    "{:toc}"
   ]
  },
  {
   "cell_type": "code",
   "execution_count": 90,
   "metadata": {},
   "outputs": [],
   "source": [
    "import mplleaflet\n",
    "import networkx as nx\n",
    "import pandas as pd\n",
    "import matplotlib.pyplot as plt\n",
    "from collections import Counter\n",
    "\n",
    "# can be found in https://github.com/brooksandrew/postman_problems_examples\n",
    "from osm2nx import read_osm, haversine\n",
    "from graph import (\n",
    "    states_to_state_avenue_name, subset_graph_by_edge_name, keep_oneway_edges_only, create_connected_components,\n",
    "    create_unkinked_connected_components, nodewise_distance_connected_components,\n",
    "    calculate_component_overlap, calculate_redundant_components, create_deduped_state_road_graph, \n",
    "    create_contracted_edge_graph, shortest_paths_between_components, find_minimum_weight_edges_to_connect_components,\n",
    "    create_rpp_edgelist\n",
    "    )\n",
    "\n",
    "# can be found in https://github.com/brooksandrew/postman_problems\n",
    "from postman_problems.tests.utils import create_mock_csv_from_dataframe\n",
    "from postman_problems.solver import rpp, cpp\n",
    "from postman_problems.stats import calculate_postman_solution_stats"
   ]
  },
  {
   "cell_type": "markdown",
   "metadata": {},
   "source": [
    "## 0: Get the data\n",
    "\n",
    "There are many ways to grab Open Street Map (OSM) data, since it's, well, open.  I grabbed the DC map from GeoFabrik [here][geofabrik].\n",
    "\n",
    "[geofabrik]:http://download.geofabrik.de/north-america/us/district-of-columbia.html"
   ]
  },
  {
   "cell_type": "markdown",
   "metadata": {},
   "source": [
    "## 1: Load OSM to NetworkX"
   ]
  },
  {
   "cell_type": "markdown",
   "metadata": {},
   "source": [
    "While some libraries like [OSMnx](https://github.com/gboeing/osmnx) provide an elegant interface to downloading, transforming and manipulating OSM data in NetworkX, I decided to start with the raw data itself.  I adopted an OSM-to-nx parser from a hodge podge of Gists ([here][osmgist_aflaxman] and [there][osmgist_tofull]) to [`read_osm`][my-osm2nx-parser].\n",
    "\n",
    "\n",
    "`read_osm` creates a directed graph.  However, for this analysis, we'll use undirected graphs with the assumption that all roads are bidirectional on a bike one way or another.\n",
    "\n",
    "[my-osm2nx-parser]:https://github.com/brooksandrew/50states/blob/master/osm2nx.py\n",
    "\n",
    "[osmgist_tofull]:https://gist.github.com/Tofull/49fbb9f3661e376d2fe08c2e9d64320e\n",
    "[osmgist_aflaxman]:https://gist.github.com/aflaxman/287370/"
   ]
  },
  {
   "cell_type": "code",
   "execution_count": 14,
   "metadata": {},
   "outputs": [
    {
     "name": "stdout",
     "output_type": "stream",
     "text": [
      "<class 'networkx.classes.digraph.DiGraph'>\n",
      "CPU times: user 46.6 s, sys: 2.1 s, total: 48.7 s\n",
      "Wall time: 50.2 s\n"
     ]
    }
   ],
   "source": [
    "%%time\n",
    "\n",
    "# load OSM to a directed NX\n",
    "g = read_osm('district-of-columbia-latest.osm')  \n",
    "\n",
    "# create an undirected graph\n",
    "g_ud = g.to_undirected()"
   ]
  },
  {
   "cell_type": "markdown",
   "metadata": {},
   "source": [
    "This is a pretty big graph, about 275k edges.  It takes about a minute to load on my machine (Macbook w 4 cores)"
   ]
  },
  {
   "cell_type": "code",
   "execution_count": 105,
   "metadata": {},
   "outputs": [
    {
     "name": "stdout",
     "output_type": "stream",
     "text": [
      "275429\n"
     ]
    }
   ],
   "source": [
    "print(len(g.edges())) # number of edges"
   ]
  },
  {
   "cell_type": "markdown",
   "metadata": {},
   "source": [
    "## 2: Make Graph w State Avenues only"
   ]
  },
  {
   "cell_type": "markdown",
   "metadata": {},
   "source": [
    "#### Generate state avenue names"
   ]
  },
  {
   "cell_type": "code",
   "execution_count": 106,
   "metadata": {},
   "outputs": [],
   "source": [
    "STATE_STREET_NAMES = [\n",
    "    'Alabama','Alaska','Arizona','Arkansas','California','Colorado',\n",
    "    'Connecticut','Delaware','Florida','Georgia','Hawaii','Idaho','Illinois',\n",
    "    'Indiana','Iowa','Kansas','Kentucky','Louisiana','Maine','Maryland',\n",
    "    'Massachusetts','Michigan','Minnesota','Mississippi','Missouri','Montana',\n",
    "    'Nebraska','Nevada','New Hampshire','New Jersey','New Mexico','New York',\n",
    "    'North Carolina','North Dakota','Ohio','Oklahoma','Oregon','Pennsylvania',\n",
    "    'Rhode Island','South Carolina','South Dakota','Tennessee','Texas','Utah',\n",
    "    'Vermont','Virginia','Washington','West Virginia','Wisconsin','Wyoming'\n",
    "]"
   ]
  },
  {
   "cell_type": "markdown",
   "metadata": {},
   "source": [
    "Most state avenues are written in the long form (ex. Connecticut Avenue Northwest).  However, some, such as Florida Ave NW, are written in the short form.  To be safe, we grab any permutation OSM could throw at us."
   ]
  },
  {
   "cell_type": "code",
   "execution_count": 107,
   "metadata": {},
   "outputs": [
    {
     "data": {
      "text/plain": [
       "['Alabama Ave Southeast',\n",
       " 'Alabama Ave Southwest',\n",
       " 'Alabama Ave Northeast',\n",
       " 'Alabama Ave Northwest',\n",
       " 'Alabama Ave SE',\n",
       " 'Alabama Ave SW',\n",
       " 'Alabama Ave NE',\n",
       " 'Alabama Ave NW',\n",
       " 'Alabama Avenue Southeast',\n",
       " 'Alabama Avenue Southwest',\n",
       " 'Alabama Avenue Northeast',\n",
       " 'Alabama Avenue Northwest',\n",
       " 'Alabama Avenue SE',\n",
       " 'Alabama Avenue SW',\n",
       " 'Alabama Avenue NE',\n",
       " 'Alabama Avenue NW',\n",
       " 'Alaska Ave Southeast',\n",
       " 'Alaska Ave Southwest',\n",
       " 'Alaska Ave Northeast',\n",
       " 'Alaska Ave Northwest']"
      ]
     },
     "execution_count": 107,
     "metadata": {},
     "output_type": "execute_result"
    }
   ],
   "source": [
    "candidate_state_avenue_names = states_to_state_avenue_name(STATE_STREET_NAMES)\n",
    "\n",
    "# two states break the \"Avenue\" pattern\n",
    "candidate_state_avenue_names += ['California Street Northwest', 'Ohio Drive Southwest']\n",
    "\n",
    "# preview\n",
    "candidate_state_avenue_names[0:20]"
   ]
  },
  {
   "cell_type": "markdown",
   "metadata": {},
   "source": [
    "#### Create graph w state avenues only"
   ]
  },
  {
   "cell_type": "code",
   "execution_count": 108,
   "metadata": {},
   "outputs": [],
   "source": [
    "g_st = subset_graph_by_edge_name(g, candidate_state_avenue_names)\n",
    "\n",
    "# Add state edge attribute from full streetname (with avenue/drive and quandrant)\n",
    "for e in g_st.edges(data=True):\n",
    "    e[2]['state'] = e[2]['name'].rsplit(' ', 2)[0]"
   ]
  },
  {
   "cell_type": "markdown",
   "metadata": {},
   "source": [
    "This is a much smaller graph:"
   ]
  },
  {
   "cell_type": "code",
   "execution_count": 109,
   "metadata": {},
   "outputs": [
    {
     "name": "stdout",
     "output_type": "stream",
     "text": [
      "7148\n"
     ]
    }
   ],
   "source": [
    "print(len(g_st.edges()))"
   ]
  },
  {
   "cell_type": "markdown",
   "metadata": {},
   "source": [
    "But every state is represented:"
   ]
  },
  {
   "cell_type": "code",
   "execution_count": 110,
   "metadata": {},
   "outputs": [
    {
     "name": "stdout",
     "output_type": "stream",
     "text": [
      "50\n"
     ]
    }
   ],
   "source": [
    "edge_count_by_state = Counter([e[2]['state'] for e in g_st.edges(data=True)])\n",
    "\n",
    "# number of unique states \n",
    "print(len(edge_count_by_state))"
   ]
  },
  {
   "cell_type": "markdown",
   "metadata": {},
   "source": [
    "Here they are by edge count:"
   ]
  },
  {
   "cell_type": "code",
   "execution_count": 111,
   "metadata": {},
   "outputs": [
    {
     "data": {
      "text/plain": [
       "Counter({'Alabama': 348,\n",
       "         'Alaska': 36,\n",
       "         'Arizona': 89,\n",
       "         'Arkansas': 64,\n",
       "         'California': 24,\n",
       "         'Colorado': 59,\n",
       "         'Connecticut': 283,\n",
       "         'Delaware': 66,\n",
       "         'Florida': 253,\n",
       "         'Georgia': 185,\n",
       "         'Hawaii': 84,\n",
       "         'Idaho': 50,\n",
       "         'Illinois': 37,\n",
       "         'Indiana': 29,\n",
       "         'Iowa': 30,\n",
       "         'Kansas': 74,\n",
       "         'Kentucky': 47,\n",
       "         'Louisiana': 37,\n",
       "         'Maine': 199,\n",
       "         'Maryland': 233,\n",
       "         'Massachusetts': 581,\n",
       "         'Michigan': 225,\n",
       "         'Minnesota': 214,\n",
       "         'Mississippi': 102,\n",
       "         'Missouri': 66,\n",
       "         'Montana': 74,\n",
       "         'Nebraska': 183,\n",
       "         'Nevada': 122,\n",
       "         'New Hampshire': 259,\n",
       "         'New Jersey': 170,\n",
       "         'New Mexico': 66,\n",
       "         'New York': 333,\n",
       "         'North Carolina': 87,\n",
       "         'North Dakota': 16,\n",
       "         'Ohio': 391,\n",
       "         'Oklahoma': 48,\n",
       "         'Oregon': 170,\n",
       "         'Pennsylvania': 433,\n",
       "         'Rhode Island': 282,\n",
       "         'South Carolina': 60,\n",
       "         'South Dakota': 124,\n",
       "         'Tennessee': 40,\n",
       "         'Texas': 123,\n",
       "         'Utah': 66,\n",
       "         'Vermont': 154,\n",
       "         'Virginia': 134,\n",
       "         'Washington': 58,\n",
       "         'West Virginia': 56,\n",
       "         'Wisconsin': 257,\n",
       "         'Wyoming': 27})"
      ]
     },
     "execution_count": 111,
     "metadata": {},
     "output_type": "execute_result"
    }
   ],
   "source": [
    "edge_count_by_state"
   ]
  },
  {
   "cell_type": "markdown",
   "metadata": {},
   "source": [
    "### 2.1 Viz state avenues\n",
    "\n",
    "As long as your NetworkX graph has `lat` and `lon` node attributes, [mplleaflet] can be used to pretty effortlessly plot your NetworkX graph on an interactive map.  \n",
    "\n",
    "Here's the map with all the state avenues... \n",
    "\n",
    "\n",
    "\n",
    "[mplleaflet]: https://github.com/jwass/mplleaflet"
   ]
  },
  {
   "cell_type": "code",
   "execution_count": 112,
   "metadata": {
    "scrolled": true
   },
   "outputs": [],
   "source": [
    "fig, ax = plt.subplots(figsize=(1,8))\n",
    "\n",
    "pos = {k: (g_st.node[k]['lon'], g_st.node[k]['lat']) for k in g_st.nodes()}    \n",
    "nx.draw_networkx_edges(g_st, pos, width=4.0, edge_color='black', alpha=0.7)\n",
    "\n",
    "# save viz    \n",
    "mplleaflet.save_html(fig, 'state_avenues_all.html', tiles='cartodb_positron')"
   ]
  },
  {
   "cell_type": "markdown",
   "metadata": {},
   "source": [
    "<iframe src=\"https://cdn.rawgit.com/brooksandrew/postman_problems_examples/master/50states/maps/state_avenues_all.html\" height=\"400\" width=\"750\"></iframe>\n"
   ]
  },
  {
   "cell_type": "markdown",
   "metadata": {},
   "source": [
    "You can even customize with your favorite tiles.  For example:\n",
    "\n",
    "```\n",
    "mplleaflet.display(fig=ax.figure, tiles='stamen_wc')\n",
    "```"
   ]
  },
  {
   "cell_type": "markdown",
   "metadata": {},
   "source": [
    "<img src=\"https://github.com/brooksandrew/postman_problems_examples/raw/master/50states/fig/stamen_wc_state_ave.jpeg\" width=\"700\">"
   ]
  },
  {
   "cell_type": "markdown",
   "metadata": {},
   "source": [
    "...But there's a wrinkle.  Zoom in on bigger avenues, like New York or Rhode Island, and you'll notice that there are two parallel edges representing each direction as a separate one-way road.  This usually occurs when there are several lanes of traffic in each direction, or physical dividers between directions.  Example below:\n",
    "\n",
    "This is great for OSM and point A to B routing problems, but for the Rural Postman problem it imposes the requirement that each main avenue be cycled twice.  We're not into that.\n",
    "\n",
    "**Example:** Rhode Island Ave (parallel edges) vs Florida Ave (single edge)"
   ]
  },
  {
   "cell_type": "markdown",
   "metadata": {},
   "source": [
    "![parallel_edge_ex](https://github.com/brooksandrew/postman_problems_examples/raw/master/50states/fig/parallel_edge_ex.png)"
   ]
  },
  {
   "cell_type": "markdown",
   "metadata": {},
   "source": [
    "## 3. Remove Redundant State Avenues\n",
    "\n",
    "\n"
   ]
  },
  {
   "cell_type": "markdown",
   "metadata": {},
   "source": [
    "As it turns out, removing these parallel (redundant) edges is a nontrivial problem to solve.  My approach is the following:\n",
    "1. Build graph with one-way state avenue edges only.\n",
    "2. For each state avenue, create list of connected components that represent sequences of OSM ways in the same direction (broken up by intersections and turns).\n",
    "3. Compute distance between each node in a component to every other node in the other candidate components.\n",
    "4. Identify redundant components as those with the majority of their nodes below some threshold distance away from another component.\n",
    "5. Build graph without redundant edges."
   ]
  },
  {
   "cell_type": "markdown",
   "metadata": {},
   "source": [
    "### 3.1 Create state avenue graph with one-way edges only"
   ]
  },
  {
   "cell_type": "code",
   "execution_count": 113,
   "metadata": {},
   "outputs": [],
   "source": [
    "g_st1 = keep_oneway_edges_only(g_st)"
   ]
  },
  {
   "cell_type": "markdown",
   "metadata": {},
   "source": [
    "The one-way avenues are plotted in red below.  A brief look indicates that 80-90% of the one-way avenues are parallel (redundant). A few, like Idaho Avenue NW and Ohio Drive SW, are single one-way roads with no accompanying parallel edge for us to remove.\n",
    "\n",
    "NOTE: you'll need to zoom in 3-4 levels to see the parallel edges."
   ]
  },
  {
   "cell_type": "code",
   "execution_count": 114,
   "metadata": {},
   "outputs": [],
   "source": [
    "fig, ax = plt.subplots(figsize=(1,6))\n",
    "\n",
    "pos = {k: (g_st1.node[k]['lon'], g_st1.node[k]['lat']) for k in g_st1.nodes()}\n",
    "nx.draw_networkx_edges(g_st1, pos, width=3.0, edge_color='red', alpha=0.7)\n",
    "\n",
    "# save viz\n",
    "mplleaflet.save_html(fig, 'oneway_state_avenues.html', tiles='cartodb_positron')"
   ]
  },
  {
   "cell_type": "markdown",
   "metadata": {},
   "source": [
    "<iframe src=\"https://cdn.rawgit.com/brooksandrew/postman_problems_examples/master/50states/maps/oneway_state_avenues.html\" height=\"400\" width=\"750\"></iframe>\n"
   ]
  },
  {
   "cell_type": "markdown",
   "metadata": {},
   "source": [
    "#### Create connected components with one-way state avenues\n"
   ]
  },
  {
   "cell_type": "code",
   "execution_count": 115,
   "metadata": {},
   "outputs": [],
   "source": [
    "comps = create_connected_components(g_st1)"
   ]
  },
  {
   "cell_type": "markdown",
   "metadata": {},
   "source": [
    "There are 163 distinct components in the graph above."
   ]
  },
  {
   "cell_type": "code",
   "execution_count": 116,
   "metadata": {},
   "outputs": [
    {
     "data": {
      "text/plain": [
       "163"
      ]
     },
     "execution_count": 116,
     "metadata": {},
     "output_type": "execute_result"
    }
   ],
   "source": [
    "len(comps)"
   ]
  },
  {
   "cell_type": "markdown",
   "metadata": {},
   "source": [
    "### 3.2 Split connected components \n",
    "\n",
    "#### Remove kinked nodes"
   ]
  },
  {
   "cell_type": "markdown",
   "metadata": {},
   "source": [
    "However, we need to break some of these components up into smaller ones.  Many components, like the one below, have bends or a connected cycle that contain both the parallel edges, where we only want one.  My approach is to identify the nodes with sharp angles and remove them.  I don't know what the proper name for these is (you can read about [angular resolution]), but we'll call them \"kinked nodes.\"  \n",
    "\n",
    "This will split the connected component below into two, allowing us to determine that one of them is redundant.\n",
    "\n",
    "[angular resolution]: https://en.wikipedia.org/wiki/Angular_resolution_(graph_drawing)"
   ]
  },
  {
   "cell_type": "markdown",
   "metadata": {},
   "source": [
    "![kinked_node_ex](https://github.com/brooksandrew/postman_problems_examples/raw/master/50states/fig/kinked_node_ex.png)"
   ]
  },
  {
   "cell_type": "markdown",
   "metadata": {},
   "source": [
    "I borrow [this code][jeromer_bearing] from `jeromer` to calculate the compass bearing (0 to 360) of each edge.  Wherever the the bearing difference between two adjacent edges is greater than `bearing_thresh`, we call the node shared by both edges a \"kinked node.\"  A relative low `bearing_thresh` of 60 appeared to work best after some experimentation. \n",
    "\n",
    "[jeromer_bearing]: https://gist.github.com/jeromer/2005586"
   ]
  },
  {
   "cell_type": "code",
   "execution_count": 117,
   "metadata": {},
   "outputs": [],
   "source": [
    "# create list of comps (graphs) without kinked nodes\n",
    "comps_unkinked = create_unkinked_connected_components(comps=comps, bearing_thresh=60)\n",
    "\n",
    "# comps in dict form for easy lookup\n",
    "comps_dict = {comp.graph['id']:comp for comp in comps_unkinked} "
   ]
  },
  {
   "cell_type": "markdown",
   "metadata": {},
   "source": [
    "After removing these \"kinked nodes,\" our list of components grows from 163 to 246:"
   ]
  },
  {
   "cell_type": "code",
   "execution_count": 118,
   "metadata": {},
   "outputs": [
    {
     "data": {
      "text/plain": [
       "246"
      ]
     },
     "execution_count": 118,
     "metadata": {},
     "output_type": "execute_result"
    }
   ],
   "source": [
    "len(comps_unkinked)"
   ]
  },
  {
   "cell_type": "markdown",
   "metadata": {},
   "source": [
    "#### Viz components without kinked nodes\n",
    "\n",
    "**Example:** Here's the Massachusetts Ave example from above after we remove kinked nodes:"
   ]
  },
  {
   "cell_type": "markdown",
   "metadata": {},
   "source": [
    "![unkinked_node_ex](https://github.com/brooksandrew/postman_problems_examples/raw/master/50states/fig/unkinked_node_ex.png)"
   ]
  },
  {
   "cell_type": "markdown",
   "metadata": {},
   "source": [
    "**Full map:** Zoom in on the map below and you'll see that we split up most of the obvious components that should be.  There are a few corner cases that we miss, but I'd estimate we programmatically split about 95% of the components correctly."
   ]
  },
  {
   "cell_type": "code",
   "execution_count": 119,
   "metadata": {},
   "outputs": [],
   "source": [
    "fig, ax = plt.subplots(figsize=(1,6))\n",
    "\n",
    "for comp in comps_unkinked:\n",
    "    pos = {k: (comp.node[k]['lon'], comp.node[k]['lat']) for k in comp.nodes()}\n",
    "    nx.draw_networkx_edges(comp, pos, width=3.0, edge_color='orange', alpha=0.7)\n",
    "    \n",
    "mplleaflet.save_html(fig, 'oneway_state_avenues_without_kinked_nodes.html', tiles='cartodb_positron')"
   ]
  },
  {
   "cell_type": "markdown",
   "metadata": {},
   "source": [
    "<iframe src=\"https://cdn.rawgit.com/brooksandrew/postman_problems_examples/master/50states/maps/oneway_state_avenues_without_kinked_nodes.html\" height=\"500\" width=\"750\"></iframe>\n"
   ]
  },
  {
   "cell_type": "markdown",
   "metadata": {},
   "source": [
    "### 3.3 & 3.4 Match connected components\n",
    "\n",
    "Now that we've crafted the right components, we calculate how close (parallel) each component is to one another.\n",
    "\n",
    "This is a relatively coarse approach, but performs surprisingly well:\n",
    "\n",
    "**1.** Find closest nodes from candidate components to each node in each component (pseudo code below):\n",
    "\n",
    "  ```\n",
    "  For each node N in component C:\n",
    "    For each C_cand in components with same street avenue as C:\n",
    "      Calculate closest node in C_cand to N.\n",
    "  ```\n",
    "\n",
    "**2.** Calculate overlap between components.  Using the distances calculated in **1.**, we say that a node from component `C` is matched to a component `C_cand` if the distance is less than `thresh_distance` specified in `calculate_component_overlap`.  75 meters seemed to work pretty well.  Essentially we're saying these nodes are close enough to be considered interchangeable.\n",
    "\n",
    "**3.** Use the node-wise matching calculated in **2.** to calculate which components are redundant.  If `thresh_pct` of nodes in component `C` are close enough (within `thresh_distance`) to nodes in component `C_cand`, we call `C` redundant and discard it.  \n",
    "\n"
   ]
  },
  {
   "cell_type": "code",
   "execution_count": 120,
   "metadata": {},
   "outputs": [],
   "source": [
    "# caclulate nodewise distances between each node in comp with closest node in each candidate\n",
    "comp_matches = nodewise_distance_connected_components(comps_unkinked)\n",
    "\n",
    "# calculate overlap between components\n",
    "comp_overlap = calculate_component_overlap(comp_matches, thresh_distance=75)\n",
    "\n",
    "# identify redundant and non-redundant components\n",
    "remove_comp_ids, keep_comp_ids = calculate_redundant_components(comp_overlap, thresh_pct=0.75)"
   ]
  },
  {
   "cell_type": "markdown",
   "metadata": {},
   "source": [
    "#### Viz redundant component solution\n",
    "\n",
    "The map below visualizes the solution to the redundant parallel edges problem.  There are some misses, but overall this simple approach works surprisingly well:  \n",
    "\n",
    "* **<font color='red'>red</font>**: redundant one-way edges to remove\n",
    "* **<font color='black'>black</font>**: one-way edges to keep\n",
    "* **<font color='blue'>blue</font>**: all state avenues\n",
    "\n",
    "\n"
   ]
  },
  {
   "cell_type": "code",
   "execution_count": 121,
   "metadata": {
    "scrolled": true
   },
   "outputs": [],
   "source": [
    "fig, ax = plt.subplots(figsize=(1,8))\n",
    "\n",
    "# plot redundant one-way edges\n",
    "for i, road in enumerate(remove_comp_ids):\n",
    "    for comp_id in remove_comp_ids[road]:\n",
    "        comp = comps_dict[comp_id]\n",
    "        posc = {k: (comp.node[k]['lon'], comp.node[k]['lat']) for k in comp.nodes()}\n",
    "        nx.draw_networkx_edges(comp, posc, width=7.0, edge_color='red')\n",
    "\n",
    "# plot keeper one-way edges \n",
    "for i, road in enumerate(keep_comp_ids):\n",
    "    for comp_id in keep_comp_ids[road]:\n",
    "        comp = comps_dict[comp_id]\n",
    "        posc = {k: (comp.node[k]['lon'], comp.node[k]['lat']) for k in comp.nodes()}\n",
    "        nx.draw_networkx_edges(comp, posc, width=3.0, edge_color='black')\n",
    "\n",
    "# plot all state avenues\n",
    "pos_st = {k: (g_st.node[k]['lon'], g_st.node[k]['lat']) for k in g_st.nodes()}    \n",
    "nx.draw_networkx_edges(g_st, pos_st, width=1.0, edge_color='blue', alpha=0.7)\n",
    "\n",
    "mplleaflet.save_html(fig, 'redundant_edges.html', tiles='cartodb_positron')"
   ]
  },
  {
   "cell_type": "markdown",
   "metadata": {},
   "source": [
    "<iframe src=\"https://cdn.rawgit.com/brooksandrew/postman_problems_examples/master/50states/maps/redundant_edges.html\" height=\"500\" width=\"750\"></iframe>\n"
   ]
  },
  {
   "cell_type": "markdown",
   "metadata": {},
   "source": [
    "### 3.5 Build graph without redundant edges\n",
    "\n",
    "This is the essentially the graph with just **black** and **<font color='blue'>blue</font>** edges from the map above."
   ]
  },
  {
   "cell_type": "code",
   "execution_count": 122,
   "metadata": {},
   "outputs": [],
   "source": [
    "# create a single graph with deduped state roads\n",
    "g_st_nd = create_deduped_state_road_graph(g_st, comps_dict, remove_comp_ids)"
   ]
  },
  {
   "cell_type": "markdown",
   "metadata": {},
   "source": [
    "After deduping the redundant edges, our connected component count drops from 246 to 96."
   ]
  },
  {
   "cell_type": "code",
   "execution_count": 123,
   "metadata": {},
   "outputs": [
    {
     "data": {
      "text/plain": [
       "96"
      ]
     },
     "execution_count": 123,
     "metadata": {},
     "output_type": "execute_result"
    }
   ],
   "source": [
    "len(list(nx.connected_components(g_st_nd)))"
   ]
  },
  {
   "cell_type": "markdown",
   "metadata": {},
   "source": [
    "## 4. Create Single Connected Component\n",
    "\n",
    "The strategy I employ for solving the Rural Postman Problem (RPP) in [postman_problems] is simple in that it reuses the machinery from the Chinese Postman Problem (CPP) solver [here][rpp_solver].  However, it makes the strong assumption that the graph's required edges form a single connected component.  This is obviously not true for our state avenue graph as-is, but it's not too off.  Although there are 96 components, there are only a couple more than a few hundred meters to the next closest component.  \n",
    "\n",
    "So we hack it a bit by adding required edges to the graph to make it a single connected component.  The tricky part is choosing the edges that add as little distance as possible.  This was the first computationally intensive step that required some clever tricks and approximations to ensure execution in a reasonable amount of time.\n",
    "\n",
    "My approach:\n",
    "\n",
    "\n",
    "\n",
    "1. Build graph with [contracted edges] only.  \n",
    "  \n",
    "2. Calculate haversine distance between each possible pair of components.  \n",
    "\n",
    "3. Find minimum distance connectors: iterate through the data structure created in **2.** to calculate shortest paths for top candidates based on haversine distance and add shortest connectors to graph.  More details below.\n",
    "\n",
    "4. Build single component graph.\n",
    "\n",
    "[contracted edges]: https://en.wikipedia.org/wiki/Edge_contraction\n",
    "[rpp_solver]: https://github.com/brooksandrew/postman_problems/blob/master/postman_problems/solver.py#L14\n",
    "[postman_problems]: https://github.com/brooksandrew/postman_problems"
   ]
  },
  {
   "cell_type": "markdown",
   "metadata": {},
   "source": [
    "### 4.1 Contract edges\n",
    "\n",
    "Nodes with degree 2 are collapsed into an edge stretching from a dead-end node (degree 1) or intersection (degree >= 3) to another.  This achieves two things:\n",
    "  * Limits the number of distance calculations.\n",
    "  * Ensures that components are connected at logical points (dead ends and intersections) rather than arbitrary parts of a roadway.  This will make for a more continuous route."
   ]
  },
  {
   "cell_type": "code",
   "execution_count": 124,
   "metadata": {},
   "outputs": [],
   "source": [
    "# Create graph with contracted edges only\n",
    "g_st_contracted = create_contracted_edge_graph(graph=g_st_nd, \n",
    "                                               edge_weight='length')"
   ]
  },
  {
   "cell_type": "markdown",
   "metadata": {},
   "source": [
    "This significantly reduces the nodes needed for distances computations by a factor of > 15."
   ]
  },
  {
   "cell_type": "code",
   "execution_count": 125,
   "metadata": {},
   "outputs": [
    {
     "name": "stdout",
     "output_type": "stream",
     "text": [
      "Number of nodes in contracted graph: 347\n",
      "Number of nodes in original graph: 5962\n"
     ]
    }
   ],
   "source": [
    "print('Number of nodes in contracted graph: {}'.format(len(g_st_contracted.nodes())))\n",
    "print('Number of nodes in original graph: {}'.format(len(g_st_nd.nodes())))"
   ]
  },
  {
   "cell_type": "markdown",
   "metadata": {},
   "source": [
    "### 4.2 Calculate haversine distance between components\n",
    "\n",
    "The 345 nodes from the contracted edge graph translate to >100,000 possible node pairings.  That means >100,000 distance calculations.  While applying a shortest path algorithm over the graph would certainly be more exact, it is painfully slow compared to simple haversine distance.  This is mainly due to the high number of nodes and edges in the DC OSM map (over 250k edges).\n",
    "\n",
    "On my laptop I averaged about 4 shortest path calculations per second.  Not too bad for a handful, but 115k would take about 7 hours.  Haversine distance, by comparison, churns through 115k in a couple seconds."
   ]
  },
  {
   "cell_type": "code",
   "execution_count": 126,
   "metadata": {},
   "outputs": [],
   "source": [
    "# create dataframe with shortest paths (haversine distance) between each component\n",
    "dfsp = shortest_paths_between_components(g_st_contracted)"
   ]
  },
  {
   "cell_type": "code",
   "execution_count": 127,
   "metadata": {},
   "outputs": [
    {
     "data": {
      "text/plain": [
       "116526"
      ]
     },
     "execution_count": 127,
     "metadata": {},
     "output_type": "execute_result"
    }
   ],
   "source": [
    "dfsp.shape[0]  # number of rows (node pairs)"
   ]
  },
  {
   "cell_type": "markdown",
   "metadata": {},
   "source": [
    "### 4.3 Find minimum distance connectors\n",
    "\n",
    "This gets a bit tricky.  Basically we iterate through the top (closest) candidate pairs of components and connect them iteration-by-iteration with the shortest path edge.  We use pre-calculated haversine distance to get in the right ballpark, then refine with true shortest path for the closest 20 candidates.  This helps us avoid the scenario where we naively connect two nodes that are geographically close as the crow flies (haversine), but far away via available roads.  Two nodes separated by highways or train tracks, for example.\n",
    "\n"
   ]
  },
  {
   "cell_type": "code",
   "execution_count": 128,
   "metadata": {},
   "outputs": [],
   "source": [
    "# min weight edges that create a single connected component\n",
    "connector_edges = find_minimum_weight_edges_to_connect_components(dfsp=dfsp, \n",
    "                                                                  graph=g_ud, \n",
    "                                                                  edge_weight='length', \n",
    "                                                                  top=20)"
   ]
  },
  {
   "cell_type": "markdown",
   "metadata": {},
   "source": [
    "We had 96 components to connect, so it makes sense that we have 95 connectors."
   ]
  },
  {
   "cell_type": "code",
   "execution_count": 129,
   "metadata": {},
   "outputs": [
    {
     "data": {
      "text/plain": [
       "95"
      ]
     },
     "execution_count": 129,
     "metadata": {},
     "output_type": "execute_result"
    }
   ],
   "source": [
    "len(connector_edges)"
   ]
  },
  {
   "cell_type": "markdown",
   "metadata": {},
   "source": [
    "### 4.4 Build single component graph"
   ]
  },
  {
   "cell_type": "code",
   "execution_count": 130,
   "metadata": {},
   "outputs": [],
   "source": [
    "# adding connector edges to create one single connected component\n",
    "for e in connector_edges:\n",
    "    g_st_contracted.add_edge(e[0], e[1], distance=e[2]['distance'], path=e[2]['path'], required=1, connector=True)"
   ]
  },
  {
   "cell_type": "markdown",
   "metadata": {},
   "source": [
    "We add about 12 miles with the 95 additional required edges.  That's not too bad: an average distance of 0.13 miles per each edge added."
   ]
  },
  {
   "cell_type": "code",
   "execution_count": 131,
   "metadata": {},
   "outputs": [
    {
     "name": "stdout",
     "output_type": "stream",
     "text": [
      "12.341087779659958\n"
     ]
    }
   ],
   "source": [
    "print(sum([e[2]['distance'] for e in g_st_contracted.edges(data=True) if e[2].get('connector')])/1609.34)"
   ]
  },
  {
   "cell_type": "markdown",
   "metadata": {},
   "source": [
    "So that leaves us with a single component of 124 miles of required edges to optimize a route through.  That means the distance of deduped state avenues alone, without connectors (~112 miles) is just a couple miles away from what [Wikipedia reports](https://en.wikipedia.org/wiki/List_of_state-named_roadways_in_Washington,_D.C.) (115 miles)."
   ]
  },
  {
   "cell_type": "code",
   "execution_count": 132,
   "metadata": {},
   "outputs": [
    {
     "name": "stdout",
     "output_type": "stream",
     "text": [
      "125.06645388481837\n"
     ]
    }
   ],
   "source": [
    "print(sum([e[2]['distance'] for e in g_st_contracted.edges(data=True)])/1609.34)"
   ]
  },
  {
   "cell_type": "markdown",
   "metadata": {},
   "source": [
    "Make graph with granular edges (filling in those that were contracted) connecting components:"
   ]
  },
  {
   "cell_type": "code",
   "execution_count": 133,
   "metadata": {},
   "outputs": [],
   "source": [
    "g1comp = g_st_contracted.copy()\n",
    "for e in g_st_contracted.edges(data=True):\n",
    "    if 'path' in e[2]:\n",
    "        granular_type = 'connector' if 'connector' in e[2] else 'state'\n",
    "        \n",
    "        # add granular connector edges to graph \n",
    "        for pair in list(zip(e[2]['path'][:-1], e[2]['path'][1:])):\n",
    "            g1comp.add_edge(pair[0], pair[1], granular='True', granular_type=granular_type)\n",
    "            \n",
    "        # add granular connector nodes to graph\n",
    "        for n in e[2]['path']:\n",
    "            g1comp.add_node(n, lat=g.node[n]['lat'], lon=g.node[n]['lon'])"
   ]
  },
  {
   "cell_type": "markdown",
   "metadata": {},
   "source": [
    "### 4.5 Viz single connected component\n",
    "\n",
    "**Black** edges represent the deduped state avenues.  \n",
    "**<font color='red'>Red</font>** edges represent the 12 miles of connectors that create the single connected component."
   ]
  },
  {
   "cell_type": "code",
   "execution_count": 134,
   "metadata": {},
   "outputs": [],
   "source": [
    "fig, ax = plt.subplots(figsize=(1,6))\n",
    "\n",
    "g1comp_conn = g1comp.copy()\n",
    "g1comp_st = g1comp.copy()\n",
    "\n",
    "for e in g1comp.edges(data=True):\n",
    "    if ('granular_type' not in e[2]) or (e[2]['granular_type'] != 'connector'):\n",
    "        g1comp_conn.remove_edge(e[0], e[1])\n",
    "\n",
    "for e in g1comp.edges(data=True):\n",
    "    if ('granular_type' not in e[2]) or (e[2]['granular_type'] != 'state'):\n",
    "        g1comp_st.remove_edge(e[0], e[1])\n",
    "    \n",
    "pos = {k: (g1comp_conn.node[k]['lon'], g1comp_conn.node[k]['lat']) for k in g1comp_conn.nodes()}    \n",
    "nx.draw_networkx_edges(g1comp_conn, pos, width=5.0, edge_color='red')\n",
    "\n",
    "pos_st = {k: (g1comp_st.node[k]['lon'], g1comp_st.node[k]['lat']) for k in g1comp_st.nodes()}    \n",
    "nx.draw_networkx_edges(g1comp_st, pos_st, width=3.0, edge_color='black')\n",
    "\n",
    "# save viz\n",
    "mplleaflet.save_html(fig, 'single_connected_comp.html', tiles='cartodb_positron')\n"
   ]
  },
  {
   "cell_type": "markdown",
   "metadata": {},
   "source": [
    "<iframe src=\"https://cdn.rawgit.com/brooksandrew/postman_problems_examples/master/50states/maps/single_connected_comp.html\" height=\"500\" width=\"750\"></iframe>\n"
   ]
  },
  {
   "cell_type": "markdown",
   "metadata": {},
   "source": [
    "## 5. Solve CPP\n",
    "\n",
    "I don't expect the Chinese Postman solution to be optimal since it only utilizes the required edges.  However, I do expect it to execute quickly and serve as a benchmark for the Rural Postman solution.  In the age of \"deep learning,\" I agree with Smerity, [baselines need more love].\n",
    "\n",
    "[baselines need more love]: http://smerity.com/articles/2017/baselines_need_love.html"
   ]
  },
  {
   "cell_type": "markdown",
   "metadata": {},
   "source": [
    "### 5.1 Create CPP edgelist\n",
    "\n",
    "The [cpp solver] I wrote operates off an edgelist (text file).  This feels a bit clunky here, but it works.\n",
    "\n",
    "[cpp solver]: https://github.com/brooksandrew/postman_problems/blob/master/postman_problems/solver.py#L65"
   ]
  },
  {
   "cell_type": "code",
   "execution_count": 45,
   "metadata": {},
   "outputs": [],
   "source": [
    "# create list with edge attributes and \"from\" & \"to\" nodes\n",
    "tmp = []\n",
    "for e in g_st_contracted.edges(data=True):\n",
    "    tmpi = e[2].copy()  # so we don't mess w original graph\n",
    "    tmpi['start_node'] = e[0]\n",
    "    tmpi['end_node'] = e[1]\n",
    "    tmp.append(tmpi)\n",
    "\n",
    "# create dataframe w node1 and node2 in order\n",
    "eldf = pd.DataFrame(tmp)   \n",
    "eldf = eldf[['start_node', 'end_node'] + list(set(eldf.columns)-{'start_node', 'end_node'})]"
   ]
  },
  {
   "cell_type": "markdown",
   "metadata": {},
   "source": [
    "The first two columns are interpeted as the *from* and *to* nodes; everything else as edge attributes."
   ]
  },
  {
   "cell_type": "code",
   "execution_count": 46,
   "metadata": {},
   "outputs": [
    {
     "data": {
      "text/html": [
       "<div>\n",
       "<style scoped>\n",
       "    .dataframe tbody tr th:only-of-type {\n",
       "        vertical-align: middle;\n",
       "    }\n",
       "\n",
       "    .dataframe tbody tr th {\n",
       "        vertical-align: top;\n",
       "    }\n",
       "\n",
       "    .dataframe thead th {\n",
       "        text-align: right;\n",
       "    }\n",
       "</style>\n",
       "<table border=\"1\" class=\"dataframe\">\n",
       "  <thead>\n",
       "    <tr style=\"text-align: right;\">\n",
       "      <th></th>\n",
       "      <th>start_node</th>\n",
       "      <th>end_node</th>\n",
       "      <th>comp</th>\n",
       "      <th>name</th>\n",
       "      <th>connector</th>\n",
       "      <th>path</th>\n",
       "      <th>distance</th>\n",
       "      <th>required</th>\n",
       "    </tr>\n",
       "  </thead>\n",
       "  <tbody>\n",
       "    <tr>\n",
       "      <th>0</th>\n",
       "      <td>3788079770</td>\n",
       "      <td>649840206</td>\n",
       "      <td>0.0</td>\n",
       "      <td>Texas Avenue Southeast</td>\n",
       "      <td>NaN</td>\n",
       "      <td>[649840206, 649840209, 649840220, 30100500, 64...</td>\n",
       "      <td>1244.893849</td>\n",
       "      <td>1</td>\n",
       "    </tr>\n",
       "    <tr>\n",
       "      <th>1</th>\n",
       "      <td>3788079770</td>\n",
       "      <td>49744479</td>\n",
       "      <td>NaN</td>\n",
       "      <td>NaN</td>\n",
       "      <td>True</td>\n",
       "      <td>[3788079770, 49751669, 4630443674, 49751671, 4...</td>\n",
       "      <td>674.458290</td>\n",
       "      <td>1</td>\n",
       "    </tr>\n",
       "    <tr>\n",
       "      <th>2</th>\n",
       "      <td>49765126</td>\n",
       "      <td>49765287</td>\n",
       "      <td>1.0</td>\n",
       "      <td>Georgia Avenue Northwest</td>\n",
       "      <td>NaN</td>\n",
       "      <td>[49765126, 49765129, 49765130, 49765131, 49765...</td>\n",
       "      <td>559.251509</td>\n",
       "      <td>1</td>\n",
       "    </tr>\n",
       "  </tbody>\n",
       "</table>\n",
       "</div>"
      ],
      "text/plain": [
       "   start_node   end_node  comp                      name connector  \\\n",
       "0  3788079770  649840206   0.0    Texas Avenue Southeast       NaN   \n",
       "1  3788079770   49744479   NaN                       NaN      True   \n",
       "2    49765126   49765287   1.0  Georgia Avenue Northwest       NaN   \n",
       "\n",
       "                                                path     distance  required  \n",
       "0  [649840206, 649840209, 649840220, 30100500, 64...  1244.893849         1  \n",
       "1  [3788079770, 49751669, 4630443674, 49751671, 4...   674.458290         1  \n",
       "2  [49765126, 49765129, 49765130, 49765131, 49765...   559.251509         1  "
      ]
     },
     "execution_count": 46,
     "metadata": {},
     "output_type": "execute_result"
    }
   ],
   "source": [
    "eldf.head(3)"
   ]
  },
  {
   "cell_type": "markdown",
   "metadata": {},
   "source": [
    "### 5.2 CPP solver\n",
    "\n",
    "#### Starting point \n",
    "\n",
    "I fix the starting node for the solution to OSM node `49765113` which corresponds to (**38.917002**, **-77.0364987**): the intersection of New Hampshire Avenue NW, 16th St NW and U St NW...  and also the close to my house:"
   ]
  },
  {
   "cell_type": "markdown",
   "metadata": {},
   "source": [
    "![start_node_map](https://github.com/brooksandrew/postman_problems_examples/raw/master/50states/fig/start_node_map.png)"
   ]
  },
  {
   "cell_type": "markdown",
   "metadata": {},
   "source": [
    "#### Solve"
   ]
  },
  {
   "cell_type": "code",
   "execution_count": 47,
   "metadata": {},
   "outputs": [],
   "source": [
    "# create mockfilename\n",
    "elfn = create_mock_csv_from_dataframe(eldf)\n",
    "\n",
    "# solve\n",
    "START_NODE = '49765113'  # New Hampshire Ave NW & U St NW.\n",
    "circuit_cpp, gcpp = cpp(elfn, start_node=START_NODE)"
   ]
  },
  {
   "cell_type": "markdown",
   "metadata": {},
   "source": [
    "### 5.3: CPP results\n",
    "\n",
    "The CPP solution covers roughly 390,000 meters, about **242 miles**.  \n",
    "The optimal CPP route doubles the required distance, doublebacking every edge on average... definitely not ideal."
   ]
  },
  {
   "cell_type": "code",
   "execution_count": 48,
   "metadata": {
    "scrolled": true
   },
   "outputs": [
    {
     "data": {
      "text/plain": [
       "OrderedDict([('distance_walked', 391523.723281576),\n",
       "             ('distance_doublebacked', 190249.27638658223),\n",
       "             ('distance_walked_once', 201274.44689499377),\n",
       "             ('distance_walked_optional', 0),\n",
       "             ('distance_walked_required', 391523.723281576),\n",
       "             ('edges_walked', 688),\n",
       "             ('edges_doublebacked', 337),\n",
       "             ('edges_walked_once', 351),\n",
       "             ('edges_walked_optional', 0),\n",
       "             ('edges_walked_required', 688)])"
      ]
     },
     "execution_count": 48,
     "metadata": {},
     "output_type": "execute_result"
    }
   ],
   "source": [
    "# circuit stats\n",
    "calculate_postman_solution_stats(circuit_cpp)"
   ]
  },
  {
   "cell_type": "markdown",
   "metadata": {},
   "source": [
    "## 6. Solve RPP\n",
    "\n",
    "The RPP should improve the CPP solution as it considers optional edges that can drastically limit the amount of doublebacking. \n",
    "\n",
    "We could add every possible edge that connects the required nodes, but it turns out that computation blows up quickly, and I'm not that patient.  The `get_shortest_paths_distances` is the bottleneck applying dijkstra path length on all possible combinations.  There are ~14k pairs to calculate shortest path for (4 per second) which would take almost one hour.\n",
    "\n",
    "However, we can use some heuristics to speed this up dramatically without sacrificing too much."
   ]
  },
  {
   "cell_type": "markdown",
   "metadata": {},
   "source": [
    "### 6.1 Create RPP edgelist\n",
    "\n",
    "Ideally optional edges will be relatively short, since they are, well, optional.  It is unlikely that the RPP algorithm will find that leveraging an optional edge that stretches from one corner of the graph to another will be efficient.  Thus we constrain the set of optional edges presented to the RPP solver to include only those less than `max_distance`.\n",
    "\n",
    "I experimented with several thresholds.  3200 meters certainly took longer (~40 minutes), but yielded the best route results.  I tried 4000m which ran for about 4 hours and returned a route with the same distance (160 miles) as the 3200m threshold.    "
   ]
  },
  {
   "cell_type": "code",
   "execution_count": 77,
   "metadata": {},
   "outputs": [
    {
     "name": "stdout",
     "output_type": "stream",
     "text": [
      "CPU times: user 34min 38s, sys: 20.5 s, total: 34min 59s\n",
      "Wall time: 36min 3s\n"
     ]
    }
   ],
   "source": [
    "%%time\n",
    "dfrpp = create_rpp_edgelist(g_st_contracted=g_st_contracted, \n",
    "                            graph_full=g_ud, \n",
    "                            edge_weight='length', \n",
    "                            max_distance=3200)"
   ]
  },
  {
   "cell_type": "markdown",
   "metadata": {},
   "source": [
    "Check how many optional edges are considered (0=optional, 1=required):"
   ]
  },
  {
   "cell_type": "code",
   "execution_count": 78,
   "metadata": {},
   "outputs": [
    {
     "data": {
      "text/plain": [
       "Counter({0: 16021, 1: 351})"
      ]
     },
     "execution_count": 78,
     "metadata": {},
     "output_type": "execute_result"
    }
   ],
   "source": [
    "Counter(dfrpp['required'])"
   ]
  },
  {
   "cell_type": "markdown",
   "metadata": {},
   "source": [
    "### 6.2 RPP solver\n",
    "\n",
    "Apply the RPP solver to the processed dataset."
   ]
  },
  {
   "cell_type": "code",
   "execution_count": 79,
   "metadata": {},
   "outputs": [
    {
     "name": "stdout",
     "output_type": "stream",
     "text": [
      "CPU times: user 7min 25s, sys: 1.68 s, total: 7min 27s\n",
      "Wall time: 7min 31s\n"
     ]
    }
   ],
   "source": [
    "%%time\n",
    "\n",
    "# create mockfilename\n",
    "elfn = create_mock_csv_from_dataframe(dfrpp)\n",
    "\n",
    "# solve\n",
    "circuit_rpp, grpp = rpp(elfn, start_node=START_NODE)"
   ]
  },
  {
   "cell_type": "markdown",
   "metadata": {},
   "source": [
    "### 6.3 RPP results\n",
    "\n",
    "As expected, the RPP route is considerably shorter than the CPP solution.  The **~242** mile CPP route is cut significantly to **~160** with the RPP approach.\n",
    "\n",
    "~26,000m (~161 miles) in total with ~59,000m (37 miles) of doublebacking.  Not bad... but probably a 2-day ride."
   ]
  },
  {
   "cell_type": "code",
   "execution_count": 80,
   "metadata": {},
   "outputs": [
    {
     "name": "stdout",
     "output_type": "stream",
     "text": [
      "161.58546891004886\n"
     ]
    }
   ],
   "source": [
    "# RPP route distance (miles)\n",
    "print(sum([e[3]['distance'] for e in circuit_rpp])/1609.34)"
   ]
  },
  {
   "cell_type": "code",
   "execution_count": 81,
   "metadata": {},
   "outputs": [],
   "source": [
    "# hack to convert 'path' from str back to list.  Caused by `create_mock_csv_from_dataframe`\n",
    "for e in circuit_rpp:\n",
    "    if type(e[3]['path']) == str:\n",
    "        exec('e[3][\"path\"]=' + e[3][\"path\"])"
   ]
  },
  {
   "cell_type": "code",
   "execution_count": 82,
   "metadata": {},
   "outputs": [
    {
     "data": {
      "text/plain": [
       "OrderedDict([('distance_walked', 260045.958535698),\n",
       "             ('distance_doublebacked', 58771.511640704295),\n",
       "             ('distance_walked_once', 201274.4468949937),\n",
       "             ('distance_walked_optional', 51891.485571184385),\n",
       "             ('distance_walked_required', 208154.47296451364),\n",
       "             ('edges_walked', 447),\n",
       "             ('edges_doublebacked', 96),\n",
       "             ('edges_walked_once', 351),\n",
       "             ('edges_walked_optional', 57),\n",
       "             ('edges_walked_required', 390)])"
      ]
     },
     "execution_count": 82,
     "metadata": {},
     "output_type": "execute_result"
    }
   ],
   "source": [
    "calculate_postman_solution_stats(circuit_rpp)"
   ]
  },
  {
   "cell_type": "markdown",
   "metadata": {},
   "source": [
    "As seen below, filling the contracted edges back in with the granular nodes adds considerably to the edge count."
   ]
  },
  {
   "cell_type": "code",
   "execution_count": 88,
   "metadata": {},
   "outputs": [
    {
     "name": "stdout",
     "output_type": "stream",
     "text": [
      "Number of edges in RPP circuit (with contracted edges): 447\n",
      "Number of edges in RPP circuit (with granular edges): 9081\n"
     ]
    }
   ],
   "source": [
    "print('Number of edges in RPP circuit (with contracted edges): {}'.format(len(circuit_rpp)))\n",
    "print('Number of edges in RPP circuit (with granular edges): {}'.format(rppdf.shape[0]))"
   ]
  },
  {
   "cell_type": "markdown",
   "metadata": {},
   "source": [
    "### 6.4 Viz RPP graph\n",
    "\n",
    "#### Create RPP granular graph\n",
    "\n",
    "Add the granular edges (that we contracted for computation) back to the graph."
   ]
  },
  {
   "cell_type": "code",
   "execution_count": 83,
   "metadata": {},
   "outputs": [],
   "source": [
    "# calc shortest path between optional nodes and add to g1comp graph\n",
    "for e in [e for e in circuit_rpp if e[3]['required']==0] :\n",
    "    \n",
    "    # add granular optional edges to g1comp\n",
    "    path = e[3]['path']\n",
    "    for pair in list(zip(path[:-1], path[1:])):\n",
    "        if g1comp.has_edge(pair[0], pair[1]):\n",
    "            continue\n",
    "        g1comp.add_edge(pair[0], pair[1], granular='True', granular_type='optional')\n",
    "    \n",
    "    # add granular nodes from optional edge paths to g1comp\n",
    "    for n in path:\n",
    "        g1comp.add_node(n, lat=g.node[n]['lat'], lon=g.node[n]['lon'])"
   ]
  },
  {
   "cell_type": "markdown",
   "metadata": {},
   "source": [
    "#### Visualize RPP solution by edge type\n",
    "\n",
    "* **<font color='black'>black</font>**: required state avenue edges\n",
    "* **<font color='red'>red</font>**: required non-state avenue edges added to form single component\n",
    "* **<font color='blue'>blue</font>**: optional non-state avenue roads\n"
   ]
  },
  {
   "cell_type": "code",
   "execution_count": 136,
   "metadata": {
    "scrolled": true
   },
   "outputs": [],
   "source": [
    "fig, ax = plt.subplots(figsize=(1,12))\n",
    "\n",
    "g1comp_conn = g1comp.copy()\n",
    "g1comp_st = g1comp.copy()\n",
    "g1comp_opt = g1comp.copy()\n",
    "\n",
    "for e in g1comp.edges(data=True):\n",
    "    if e[2].get('granular_type') != 'connector':\n",
    "        g1comp_conn.remove_edge(e[0], e[1])\n",
    "\n",
    "for e in g1comp.edges(data=True):\n",
    "    #if e[2].get('name') not in candidate_state_avenue_names:\n",
    "    if e[2].get('granular_type') != 'state':\n",
    "        g1comp_st.remove_edge(e[0], e[1])\n",
    "\n",
    "for e in g1comp.edges(data=True):\n",
    "    if e[2].get('granular_type') != 'optional':\n",
    "        g1comp_opt.remove_edge(e[0], e[1])\n",
    "\n",
    "        \n",
    "pos = {k: (g1comp_conn.node[k]['lon'], g1comp_conn.node[k]['lat']) for k in g1comp_conn.nodes()}    \n",
    "nx.draw_networkx_edges(g1comp_conn, pos, width=6.0, edge_color='red')\n",
    "\n",
    "pos_st = {k: (g1comp_st.node[k]['lon'], g1comp_st.node[k]['lat']) for k in g1comp_st.nodes()}    \n",
    "nx.draw_networkx_edges(g1comp_st, pos_st, width=4.0, edge_color='black')\n",
    "\n",
    "pos_opt = {k: (g1comp_opt.node[k]['lon'], g1comp_opt.node[k]['lat']) for k in g1comp_opt.nodes()}    \n",
    "nx.draw_networkx_edges(g1comp_opt, pos_opt, width=2.0, edge_color='blue')\n",
    "\n",
    "# save vbiz\n",
    "mplleaflet.save_html(fig, 'rpp_solution_edge_type.html', tiles='cartodb_positron')"
   ]
  },
  {
   "cell_type": "markdown",
   "metadata": {},
   "source": [
    "<iframe src=\"https://cdn.rawgit.com/brooksandrew/postman_problems_examples/master/50states/maps/rpp_solution_edge_type.html\" height=\"500\" width=\"750\"></iframe>\n"
   ]
  },
  {
   "cell_type": "markdown",
   "metadata": {},
   "source": [
    "#### Visualize RPP solution by edge walk count\n",
    "\n",
    "Edge walks per color:  \n",
    "\n",
    "**<font color='black'>black</font>**: 1  <br>\n",
    "**<font color='magenta'>magenta</font>**: 2  <br>\n",
    "**<font color='orange'>orange</font>**: 3  <br>\n",
    "\n",
    "Edges walked more than once are also widened.\n",
    "\n",
    "This solution feels pretty reasonable with surprisingly little doublebacking.  After staring at this for several minutes, I could think of roads I'd prefer not to cycle on, but no obvious shorter paths."
   ]
  },
  {
   "cell_type": "code",
   "execution_count": 137,
   "metadata": {},
   "outputs": [],
   "source": [
    "## Create graph directly from rpp_circuit and original graph w lat/lon (g_ud)\n",
    "color_seq = [None, 'black', 'magenta', 'orange', 'yellow']\n",
    "grppviz = nx.Graph()\n",
    "edges_cnt = Counter([tuple(sorted([e[0], e[1]])) for e in circuit_rpp])\n",
    "\n",
    "for e in circuit_rpp:\n",
    "    for n1, n2 in zip(e[3]['path'][:-1], e[3]['path'][1:]):\n",
    "        if grppviz.has_edge(n1, n2):\n",
    "            grppviz[n1][n2]['linewidth'] += 2\n",
    "            grppviz[n1][n2]['cnt'] += 1\n",
    "        else:                \n",
    "            grppviz.add_edge(n1, n2, linewidth=2.5)\n",
    "            grppviz[n1][n2]['color_st'] = 'black' if g_st.has_edge(n1, n2) else 'red'\n",
    "            grppviz[n1][n2]['cnt'] = 1\n",
    "            grppviz.add_node(n1, lat=g_ud.node[n1]['lat'], lon=g_ud.node[n1]['lon'])\n",
    "            grppviz.add_node(n2, lat=g_ud.node[n2]['lat'], lon=g_ud.node[n2]['lon']) \n",
    "\n",
    "for e in grppviz.edges(data=True):\n",
    "    e[2]['color_cnt'] = color_seq[e[2]['cnt']]"
   ]
  },
  {
   "cell_type": "code",
   "execution_count": 138,
   "metadata": {
    "scrolled": true
   },
   "outputs": [],
   "source": [
    "fig, ax = plt.subplots(figsize=(1,12))\n",
    "\n",
    "pos = {k: (grppviz.node[k]['lon'], grppviz.node[k]['lat']) for k in grppviz.nodes()}    \n",
    "e_width = [e[2]['linewidth'] for e in grppviz.edges(data=True)]\n",
    "e_color = [e[2]['color_cnt'] for e in grppviz.edges(data=True)]\n",
    "nx.draw_networkx_edges(grppviz, pos, width=e_width, edge_color=e_color, alpha=0.7)\n",
    "    \n",
    "# save viz\n",
    "mplleaflet.save_html(fig, 'rpp_solution_edge_cnt.html', tiles='cartodb_positron')"
   ]
  },
  {
   "cell_type": "markdown",
   "metadata": {},
   "source": [
    "<iframe src=\"https://cdn.rawgit.com/brooksandrew/postman_problems_examples/master/50states/maps/rpp_solution_edge_cnt.html\" height=\"500\" width=\"750\"></iframe>\n"
   ]
  },
  {
   "cell_type": "markdown",
   "metadata": {},
   "source": [
    "### 6.5 Serialize RPP solution\n",
    "\n",
    "#### CSV\n",
    "\n",
    "Remember we contracted the edges in **4.1** for more efficient computation.  However, when we visualize the solution, the more granular edges within the larger contracted ones are filled back in, so we can see the exact route to ride with all the bends and squiggles."
   ]
  },
  {
   "cell_type": "code",
   "execution_count": 101,
   "metadata": {},
   "outputs": [],
   "source": [
    "# fill in RPP solution edgelist with granular nodes\n",
    "rpplist = []\n",
    "for ee in circuit_rpp:\n",
    "    path = list(zip(ee[3]['path'][:-1], ee[3]['path'][1:]))\n",
    "    for e in path:\n",
    "        rpplist.append({\n",
    "            'start_node': e[0],\n",
    "            'end_node': e[1],\n",
    "            'start_lat': g_ud.node[e[0]]['lat'],\n",
    "            'start_lon': g_ud.node[e[0]]['lon'],\n",
    "            'end_lat': g_ud.node[e[1]]['lat'],\n",
    "            'end_lon': g_ud.node[e[1]]['lon'],\n",
    "            'street_name': g_ud[e[0]][e[1]].get('name')\n",
    "        })\n",
    "        \n",
    "# write solution to disk\n",
    "rppdf = pd.DataFrame(rpplist)\n",
    "rppdf.to_csv('rpp_solution.csv', index=False)\n"
   ]
  },
  {
   "cell_type": "markdown",
   "metadata": {},
   "source": [
    "#### Geojson\n",
    "\n",
    "Similarly, we create a geojson object of the RPP solution using the `time` attribute to keep track of the route order.  This data structure can be used for fancy js/d3 visualizations.  Coming soon, hopefully."
   ]
  },
  {
   "cell_type": "code",
   "execution_count": 102,
   "metadata": {},
   "outputs": [],
   "source": [
    "geojson = {'features':[], 'type': 'FeatureCollection'}\n",
    "time = 0\n",
    "path = list(reversed(circuit_rpp[0][3]['path']))\n",
    "\n",
    "for e in circuit_rpp:\n",
    "    if e[3]['path'][0] != path[-1]: \n",
    "        path = list(reversed(e[3]['path']))\n",
    "    else:\n",
    "        path = e[3]['path']\n",
    "    \n",
    "    for n in path:\n",
    "        time += 1\n",
    "        doc = {'type': 'Feature',\n",
    "              'properties': {\n",
    "                  'latitude': g.node[n]['lat'],\n",
    "                  'longitude': g.node[n]['lon'],\n",
    "                  'time': time,\n",
    "                  'id': e[3].get('id')\n",
    "              },\n",
    "              'geometry':{\n",
    "                  'type': 'Point',\n",
    "                  'coordinates': [g.node[n]['lon'], g.node[n]['lat']]\n",
    "              }\n",
    "          }\n",
    "        geojson['features'].append(doc)"
   ]
  },
  {
   "cell_type": "code",
   "execution_count": 103,
   "metadata": {},
   "outputs": [],
   "source": [
    "with open('circuit_rpp.geojson','w') as f:\n",
    "    json.dump(geojson, f)"
   ]
  }
 ],
 "metadata": {
  "anaconda-cloud": {},
  "kernelspec": {
   "display_name": "Python [conda env:50states]",
   "language": "python",
   "name": "conda-env-50states-py"
  },
  "language_info": {
   "codemirror_mode": {
    "name": "ipython",
    "version": 3
   },
   "file_extension": ".py",
   "mimetype": "text/x-python",
   "name": "python",
   "nbconvert_exporter": "python",
   "pygments_lexer": "ipython3",
   "version": "3.6.3"
  },
  "toc": {
   "nav_menu": {},
   "number_sections": false,
   "sideBar": true,
   "skip_h1_title": false,
   "toc_cell": false,
   "toc_position": {
    "height": "597px",
    "left": "0px",
    "right": "1101px",
    "top": "135px",
    "width": "212px"
   },
   "toc_section_display": "block",
   "toc_window_display": true
  }
 },
 "nbformat": 4,
 "nbformat_minor": 1
}
