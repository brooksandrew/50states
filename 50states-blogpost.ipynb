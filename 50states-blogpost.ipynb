{
 "cells": [
  {
   "cell_type": "code",
   "execution_count": 2,
   "metadata": {
    "collapsed": false
   },
   "outputs": [],
   "source": [
    "%load_ext autoreload\n",
    "%autoreload 2"
   ]
  },
  {
   "cell_type": "code",
   "execution_count": 320,
   "metadata": {
    "collapsed": false
   },
   "outputs": [],
   "source": [
    "import mplleaflet\n",
    "import networkx as nx\n",
    "import pandas as pd\n",
    "import matplotlib.pyplot as plt\n",
    "from collections import Counter\n",
    "\n",
    "from osm2nx import read_osm, haversine\n",
    "from graph import (\n",
    "    states_to_state_avenue_name, subset_graph_by_edge_name, keep_oneway_edges_only, create_connected_components,\n",
    "    identify_kinked_nodes, create_unkinked_connected_components, nodewise_distance_connected_components,\n",
    "    calculate_component_overlap, calculate_redundant_components, contract_edges, create_deduped_state_road_graph, \n",
    "    create_contracted_edge_graph,shortest_paths_between_components, find_minimum_weight_edges_to_connect_components,\n",
    "    create_rpp_edgelist\n",
    "    )\n",
    "\n",
    "from postman_problems.tests.utils import create_mock_csv_from_dataframe\n",
    "from postman_problems.solver import rpp, cpp\n",
    "from postman_problems.stats import calculate_postman_solution_stats"
   ]
  },
  {
   "cell_type": "markdown",
   "metadata": {},
   "source": [
    "## Load OSM to NetworkxX"
   ]
  },
  {
   "cell_type": "code",
   "execution_count": 4,
   "metadata": {
    "collapsed": false
   },
   "outputs": [
    {
     "name": "stdout",
     "output_type": "stream",
     "text": [
      "<class 'networkx.classes.digraph.DiGraph'>\n",
      "CPU times: user 55.7 s, sys: 2.54 s, total: 58.2 s\n",
      "Wall time: 1min 1s\n"
     ]
    }
   ],
   "source": [
    "%%time\n",
    "\n",
    "g = read_osm('../../50states/district-of-columbia-latest.osm')  "
   ]
  },
  {
   "cell_type": "markdown",
   "metadata": {},
   "source": [
    "## Make Graph w State Avenues only"
   ]
  },
  {
   "cell_type": "markdown",
   "metadata": {},
   "source": [
    "#### Generate state avenue names"
   ]
  },
  {
   "cell_type": "code",
   "execution_count": 5,
   "metadata": {
    "collapsed": true
   },
   "outputs": [],
   "source": [
    "STATE_STREET_NAMES = [\n",
    "    \"Alabama\",\"Alaska\",\"Arizona\",\"Arkansas\",\"California\",\"Colorado\",\n",
    "    \"Connecticut\",\"Delaware\",\"Florida\",\"Georgia\",\"Hawaii\",\"Idaho\",\"Illinois\",\n",
    "    \"Indiana\",\"Iowa\",\"Kansas\",\"Kentucky\",\"Louisiana\",\"Maine\",\"Maryland\",\n",
    "    \"Massachusetts\",\"Michigan\",\"Minnesota\",\"Mississippi\",\"Missouri\",\"Montana\",\n",
    "    \"Nebraska\",\"Nevada\",\"New Hampshire\",\"New Jersey\",\"New Mexico\",\"New York\",\n",
    "    \"North Carolina\",\"North Dakota\",\"Ohio\",\"Oklahoma\",\"Oregon\",\"Pennsylvania\",\n",
    "    \"Rhode Island\",\"South Carolina\",\"South Dakota\",\"Tennessee\",\"Texas\",\"Utah\",\n",
    "    \"Vermont\",\"Virginia\",\"Washington\",\"West Virginia\",\"Wisconsin\",\"Wyoming\"\n",
    "]"
   ]
  },
  {
   "cell_type": "code",
   "execution_count": 6,
   "metadata": {
    "collapsed": true
   },
   "outputs": [],
   "source": [
    "candidate_state_avenue_names = states_to_state_avenue_name(STATE_STREET_NAMES)"
   ]
  },
  {
   "cell_type": "markdown",
   "metadata": {},
   "source": [
    "#### Create graph w state avenues only"
   ]
  },
  {
   "cell_type": "code",
   "execution_count": 7,
   "metadata": {
    "collapsed": true
   },
   "outputs": [],
   "source": [
    "g_st = subset_graph_by_edge_name(g, candidate_state_avenue_names)"
   ]
  },
  {
   "cell_type": "code",
   "execution_count": 8,
   "metadata": {
    "collapsed": false
   },
   "outputs": [],
   "source": [
    "# Add state edge attribute from full streetname (with avenue/drive and quandrant)\n",
    "for e in g_st.edges(data=True):\n",
    "    e[2]['state'] = e[2]['name'].rsplit(' ', 2)[0]"
   ]
  },
  {
   "cell_type": "markdown",
   "metadata": {},
   "source": [
    "## Remove redundant state avenues"
   ]
  },
  {
   "cell_type": "markdown",
   "metadata": {},
   "source": [
    "#### create state avenue graph w oneway edges only"
   ]
  },
  {
   "cell_type": "code",
   "execution_count": 523,
   "metadata": {
    "collapsed": true
   },
   "outputs": [],
   "source": [
    "g_st1 = keep_oneway_edges_only(g_st)"
   ]
  },
  {
   "cell_type": "markdown",
   "metadata": {},
   "source": [
    "#### create simple connected components\n",
    "\n",
    "(these are oneway state avenues only)"
   ]
  },
  {
   "cell_type": "code",
   "execution_count": 524,
   "metadata": {
    "collapsed": false
   },
   "outputs": [],
   "source": [
    "comps = create_connected_components(g_st1)"
   ]
  },
  {
   "cell_type": "markdown",
   "metadata": {},
   "source": [
    "#### remove kinked nodes"
   ]
  },
  {
   "cell_type": "code",
   "execution_count": 534,
   "metadata": {
    "collapsed": false
   },
   "outputs": [],
   "source": [
    "comps_unkinked = create_unkinked_connected_components(comps, 60)\n",
    "\n",
    "# comps in dict form for easy lookup\n",
    "comps_dict = {comp.graph['id']:comp for comp in comps_unkinked} "
   ]
  },
  {
   "cell_type": "markdown",
   "metadata": {},
   "source": [
    "#### matching connected components"
   ]
  },
  {
   "cell_type": "code",
   "execution_count": 535,
   "metadata": {
    "collapsed": false
   },
   "outputs": [],
   "source": [
    "# caclulate nodewise distances between each node in comp with closest node in each candidate\n",
    "comp_matches = nodewise_distance_connected_components(comps_unkinked)\n",
    "\n",
    "# calculate overlap between components\n",
    "comp_overlap = calculate_component_overlap(comp_matches, thresh_distance=75)\n",
    "\n",
    "# identify redundant and non-redundant components\n",
    "remove_comp_ids, keep_comp_ids = calculate_redundant_components(comp_overlap, thresh_pct=0.75)"
   ]
  },
  {
   "cell_type": "markdown",
   "metadata": {},
   "source": [
    "#### viz redundant component solution"
   ]
  },
  {
   "cell_type": "code",
   "execution_count": 536,
   "metadata": {
    "collapsed": false
   },
   "outputs": [],
   "source": [
    "fig, ax = plt.subplots()\n",
    "\n",
    "for i, road in enumerate(remove_comp_ids):\n",
    "    for comp_id in remove_comp_ids[road]:\n",
    "        comp = comps_dict[comp_id]\n",
    "        posc = {k: (float(comp.node[k]['lon']), float(comp.node[k]['lat'])) for k in comp.nodes()}\n",
    "        width = 7.0\n",
    "        nx.draw_networkx_edges(comp, posc, width=width, edge_color='red', arrows=False)\n",
    "        #nx.draw_networkx_nodes(comp, posc, node_size=40, nodelist=comp.nodes(), node_color='red', edge_color='k', alpha=1, with_labels=True)\n",
    "\n",
    "for i, road in enumerate(keep_comp_ids):\n",
    "    for comp_id in keep_comp_ids[road]:\n",
    "        comp = comps_dict[comp_id]\n",
    "        posc = {k: (float(comp.node[k]['lon']), float(comp.node[k]['lat'])) for k in comp.nodes()}\n",
    "        width = 3.0\n",
    "        nx.draw_networkx_edges(comp, posc, width=width, edge_color='black', arrows=False)\n",
    "        #nx.draw_networkx_nodes(comp, posc, node_size=40, nodelist=comp.nodes(), node_color='red', edge_color='k', alpha=1, with_labels=True)        \n",
    "\n",
    "pos_st = {k: (float(g_st.node[k]['lon']), float(g_st.node[k]['lat'])) for k in g_st.nodes()}    \n",
    "nx.draw_networkx_edges(g_st, pos_st, width=1.0, edge_color='blue', alpha=0.7, arrows=False)\n",
    "\n",
    "mplleaflet.show(fig=ax.figure)"
   ]
  },
  {
   "cell_type": "markdown",
   "metadata": {},
   "source": [
    "## Create single connected component"
   ]
  },
  {
   "cell_type": "code",
   "execution_count": 248,
   "metadata": {
    "collapsed": true
   },
   "outputs": [],
   "source": [
    "# create a single graph with deduped state roads\n",
    "g_st_nd = create_deduped_state_road_graph(g_st, comps_dict, remove_comp_ids)"
   ]
  },
  {
   "cell_type": "code",
   "execution_count": 112,
   "metadata": {
    "collapsed": false
   },
   "outputs": [],
   "source": [
    "# Create graph with contracted edges only\n",
    "g_st_contracted = create_contracted_edge_graph(g_st_nd, 'length')"
   ]
  },
  {
   "cell_type": "code",
   "execution_count": 113,
   "metadata": {
    "collapsed": false
   },
   "outputs": [],
   "source": [
    "# create dataframe with shortest paths between each component\n",
    "dfsp = shortest_paths_between_components(g_st_contracted)"
   ]
  },
  {
   "cell_type": "code",
   "execution_count": 114,
   "metadata": {
    "collapsed": false
   },
   "outputs": [],
   "source": [
    "g_ud = g.to_undirected()  # necessary for min weight func below\n",
    "\n",
    "# min weight edges that create a single connected component\n",
    "connector_edges = find_minimum_weight_edges_to_connect_components(dfsp, g_ud, 'length', 10)"
   ]
  },
  {
   "cell_type": "code",
   "execution_count": 522,
   "metadata": {
    "collapsed": false
   },
   "outputs": [
    {
     "data": {
      "text/plain": [
       "('3378364625',\n",
       " '2071884010',\n",
       " {'distance': 2.423094275667694, 'path': ['3378364625', '2071884010']})"
      ]
     },
     "execution_count": 522,
     "metadata": {},
     "output_type": "execute_result"
    }
   ],
   "source": [
    "connector_edges[0]"
   ]
  },
  {
   "cell_type": "code",
   "execution_count": 115,
   "metadata": {
    "collapsed": false
   },
   "outputs": [
    {
     "name": "stdout",
     "output_type": "stream",
     "text": [
      "118.55355310056581\n"
     ]
    }
   ],
   "source": [
    "# adding connector edges to create one single connected component\n",
    "for e in connector_edges:\n",
    "    g_st_contracted.add_edge(e[0], e[1], distance=e[2]['distance'], path=e[2]['path'], required=1, connector=True)\n",
    "    \n",
    "print(sum([e[2]['distance'] for e in g_st_contracted.edges(data=True)])/1600)"
   ]
  },
  {
   "cell_type": "markdown",
   "metadata": {},
   "source": [
    "### Viz: single connected component"
   ]
  },
  {
   "cell_type": "markdown",
   "metadata": {},
   "source": [
    "#### make graph with granular edges connecting components"
   ]
  },
  {
   "cell_type": "code",
   "execution_count": 140,
   "metadata": {
    "collapsed": false
   },
   "outputs": [],
   "source": [
    "g1component = g_st_contracted.copy()\n",
    "for e in g_st_contracted.edges(data=True):\n",
    "    if 'path' in e[2]:\n",
    "        granular_type = 'connector' if 'connector' in e[2] else 'state'\n",
    "        \n",
    "        # add granular connector edges to graph \n",
    "        for pair in list(zip(e[2]['path'][:-1], e[2]['path'][1:])):\n",
    "            g1component.add_edge(pair[0], pair[1], granular='True', granular_type=granular_type)\n",
    "            \n",
    "        # add granular connector nodes to graph\n",
    "        for n in e[2]['path']:\n",
    "            g1component.add_node(n, lat=g.node[n]['lat'], lon=g.node[n]['lon'])"
   ]
  },
  {
   "cell_type": "markdown",
   "metadata": {},
   "source": [
    "#### Make granular connected viz"
   ]
  },
  {
   "cell_type": "code",
   "execution_count": 254,
   "metadata": {
    "collapsed": false
   },
   "outputs": [],
   "source": [
    "fig, ax = plt.subplots()\n",
    "\n",
    "g1component_subconnector = g1component.copy()\n",
    "g1component_st = g1component.copy()\n",
    "\n",
    "for e in g1component.edges(data=True):\n",
    "    if ('granular_type' not in e[2]) or (e[2]['granular_type'] != 'connector'):\n",
    "        g1component_subconnector.remove_edge(e[0], e[1])\n",
    "\n",
    "for e in g1component.edges(data=True):\n",
    "    if ('granular_type' not in e[2]) or (e[2]['granular_type'] != 'state'):\n",
    "        g1component_st.remove_edge(e[0], e[1])\n",
    "    \n",
    "pos = {k: (float(g1component_subconnector.node[k]['lon']), float(g1component_subconnector.node[k]['lat'])) for k in g1component_subconnector.nodes()}    \n",
    "nx.draw_networkx_edges(g1component_subconnector, pos, width=5, edge_color='red', arrows=False)\n",
    "\n",
    "pos_st = {k: (float(g1component_st.node[k]['lon']), float(g1component_st.node[k]['lat'])) for k in g1component_st.nodes()}    \n",
    "nx.draw_networkx_edges(g1component_st, pos_st, width=3, edge_color='black', arrows=False)\n",
    "\n",
    "mplleaflet.show(fig=ax.figure)"
   ]
  },
  {
   "cell_type": "markdown",
   "metadata": {},
   "source": [
    "## Solve CPP"
   ]
  },
  {
   "cell_type": "markdown",
   "metadata": {},
   "source": [
    "### Create CPP edgelist"
   ]
  },
  {
   "cell_type": "code",
   "execution_count": 145,
   "metadata": {
    "collapsed": false
   },
   "outputs": [],
   "source": [
    "tmp = []\n",
    "for e in g_st_contracted.edges(data=True):\n",
    "    tmpi = e[2].copy()  # so we don't mess w original graph\n",
    "    tmpi['start_node'] = e[0]\n",
    "    tmpi['end_node'] = e[1]\n",
    "    tmp.append(tmpi)\n",
    "\n",
    "# create dataframe w node1 and node2 in order\n",
    "tmpdf = pd.DataFrame(tmp)   \n",
    "tmpdf = tmpdf[['start_node', 'end_node'] + list(set(tmpdf.columns)-{'start_node', 'end_node'})]"
   ]
  },
  {
   "cell_type": "code",
   "execution_count": 347,
   "metadata": {
    "collapsed": false
   },
   "outputs": [
    {
     "data": {
      "text/html": [
       "<div>\n",
       "<table border=\"1\" class=\"dataframe\">\n",
       "  <thead>\n",
       "    <tr style=\"text-align: right;\">\n",
       "      <th></th>\n",
       "      <th>start_node</th>\n",
       "      <th>end_node</th>\n",
       "      <th>required</th>\n",
       "      <th>path</th>\n",
       "      <th>connector</th>\n",
       "      <th>distance</th>\n",
       "      <th>comp</th>\n",
       "      <th>name</th>\n",
       "    </tr>\n",
       "  </thead>\n",
       "  <tbody>\n",
       "    <tr>\n",
       "      <th>0</th>\n",
       "      <td>3010850857</td>\n",
       "      <td>3010850865</td>\n",
       "      <td>1</td>\n",
       "      <td>[3010850857, 3010850864, 3010850865]</td>\n",
       "      <td>NaN</td>\n",
       "      <td>22.970120</td>\n",
       "      <td>90.0</td>\n",
       "      <td>Delaware Avenue Northeast</td>\n",
       "    </tr>\n",
       "    <tr>\n",
       "      <th>1</th>\n",
       "      <td>1243974093</td>\n",
       "      <td>49882304</td>\n",
       "      <td>1</td>\n",
       "      <td>[1243974093, 49882304]</td>\n",
       "      <td>NaN</td>\n",
       "      <td>9.539226</td>\n",
       "      <td>10.0</td>\n",
       "      <td>New Hampshire Avenue Northwest</td>\n",
       "    </tr>\n",
       "    <tr>\n",
       "      <th>2</th>\n",
       "      <td>1243974093</td>\n",
       "      <td>49882294</td>\n",
       "      <td>1</td>\n",
       "      <td>[49882294, 1243974201, 1243974200, 1243974199,...</td>\n",
       "      <td>True</td>\n",
       "      <td>31.335871</td>\n",
       "      <td>NaN</td>\n",
       "      <td>NaN</td>\n",
       "    </tr>\n",
       "  </tbody>\n",
       "</table>\n",
       "</div>"
      ],
      "text/plain": [
       "   start_node    end_node  required  \\\n",
       "0  3010850857  3010850865         1   \n",
       "1  1243974093    49882304         1   \n",
       "2  1243974093    49882294         1   \n",
       "\n",
       "                                                path connector   distance  \\\n",
       "0               [3010850857, 3010850864, 3010850865]       NaN  22.970120   \n",
       "1                             [1243974093, 49882304]       NaN   9.539226   \n",
       "2  [49882294, 1243974201, 1243974200, 1243974199,...      True  31.335871   \n",
       "\n",
       "   comp                            name  \n",
       "0  90.0       Delaware Avenue Northeast  \n",
       "1  10.0  New Hampshire Avenue Northwest  \n",
       "2   NaN                             NaN  "
      ]
     },
     "execution_count": 347,
     "metadata": {},
     "output_type": "execute_result"
    }
   ],
   "source": [
    "tmpdf.head(3)"
   ]
  },
  {
   "cell_type": "markdown",
   "metadata": {},
   "source": [
    "###  CPP solver"
   ]
  },
  {
   "cell_type": "code",
   "execution_count": 147,
   "metadata": {
    "collapsed": false
   },
   "outputs": [
    {
     "name": "stdout",
     "output_type": "stream",
     "text": [
      "236.92620192711135\n"
     ]
    }
   ],
   "source": [
    "# create mockfilename\n",
    "elfn = create_mock_csv_from_dataframe(tmpdf)\n",
    "\n",
    "# solve\n",
    "circuit_cpp, gcpp = cpp(elfn)\n",
    "\n",
    "# circuit stats\n",
    "calculate_postman_solution_stats(circuit_cpp)\n",
    "print(sum([e[3]['distance'] for e in circuit_cpp])/1600)"
   ]
  },
  {
   "cell_type": "markdown",
   "metadata": {},
   "source": [
    "## Solve RPP\n",
    "\n",
    "\n",
    "`get_shortest_paths_distances` is the bottleneck applying djkstra path length on all possible combinations.  there are ~14k pairs to calculate shortest path for (4 per second) which would take almost one hour."
   ]
  },
  {
   "cell_type": "markdown",
   "metadata": {},
   "source": [
    "#### create edgelist for RPP\n",
    "\n",
    "This adds optional edges whose distance is less than 1600m.  The corresponding granular path is added as an attribute, but not used for computation to improve efficiency of solver."
   ]
  },
  {
   "cell_type": "code",
   "execution_count": 706,
   "metadata": {
    "collapsed": false
   },
   "outputs": [
    {
     "name": "stdout",
     "output_type": "stream",
     "text": [
      "CPU times: user 39min 59s, sys: 28.1 s, total: 40min 28s\n",
      "Wall time: 41min 52s\n"
     ]
    }
   ],
   "source": [
    "%%time\n",
    "dfrpp = create_rpp_edgelist(g_st_contracted, g_ud, 'length', 3200)"
   ]
  },
  {
   "cell_type": "code",
   "execution_count": 707,
   "metadata": {
    "collapsed": false
   },
   "outputs": [
    {
     "data": {
      "text/plain": [
       "0    14894\n",
       "1      333\n",
       "Name: required, dtype: int64"
      ]
     },
     "execution_count": 707,
     "metadata": {},
     "output_type": "execute_result"
    }
   ],
   "source": [
    "pd.value_counts(dfrpp['required'])"
   ]
  },
  {
   "cell_type": "markdown",
   "metadata": {},
   "source": [
    "TODO: The path edge attribute in `circuit_rpp` is correct.  and comes from the `dfrpp`.  However it is in string form, rather than list... not sure why.  can fix with exec, but that's messy.\n",
    "\n",
    "TODO: explore multigraph"
   ]
  },
  {
   "cell_type": "code",
   "execution_count": 708,
   "metadata": {
    "collapsed": false
   },
   "outputs": [
    {
     "name": "stderr",
     "output_type": "stream",
     "text": [
      "INFO:postman_problems.solver.rpp:read edgelist\n",
      "INFO:postman_problems.solver.rpp:create full and required graph\n",
      "INFO:postman_problems.solver.rpp:getting odd node pairs\n",
      "INFO:postman_problems.solver.rpp:get shortest paths between odd nodes\n",
      "INFO:postman_problems.solver.rpp:Find min weight matching using blossom algorithm\n",
      "INFO:postman_problems.solver.rpp:add the min weight matching edges to g\n",
      "INFO:postman_problems.solver.rpp:get eulerian circuit route\n"
     ]
    },
    {
     "name": "stdout",
     "output_type": "stream",
     "text": [
      "153.8387683536511\n",
      "CPU times: user 7min 31s, sys: 4.31 s, total: 7min 36s\n",
      "Wall time: 7min 49s\n"
     ]
    }
   ],
   "source": [
    "%%time\n",
    "\n",
    "# create mockfilename\n",
    "elfn = create_mock_csv_from_dataframe(dfrpp)\n",
    "\n",
    "# solve\n",
    "circuit_rpp, grpp = rpp(elfn, verbose=True)\n",
    "\n",
    "# circuit stats\n",
    "print(sum([e[3]['distance'] for e in circuit_rpp])/1600)"
   ]
  },
  {
   "cell_type": "code",
   "execution_count": 709,
   "metadata": {
    "collapsed": false
   },
   "outputs": [],
   "source": [
    "# hack to convert 'path' from str back to list.  Caused by `create_mock_csv_from_dataframe`\n",
    "for e in circuit_rpp:\n",
    "    if type(e[3]['path']) == str:\n",
    "        exec('e[3][\"path\"]=' + e[3][\"path\"])"
   ]
  },
  {
   "cell_type": "code",
   "execution_count": 710,
   "metadata": {
    "collapsed": false
   },
   "outputs": [
    {
     "data": {
      "text/plain": [
       "OrderedDict([('distance_walked', 246142.02936584174),\n",
       "             ('distance_doublebacked', 56456.34440493667),\n",
       "             ('distance_walked_once', 189685.68496090506),\n",
       "             ('distance_walked_optional', 51391.89182604927),\n",
       "             ('distance_walked_required', 194750.13753979246),\n",
       "             ('edges_walked', 423),\n",
       "             ('edges_doublebacked', 90),\n",
       "             ('edges_walked_once', 333),\n",
       "             ('edges_walked_optional', 60),\n",
       "             ('edges_walked_required', 363)])"
      ]
     },
     "execution_count": 710,
     "metadata": {},
     "output_type": "execute_result"
    }
   ],
   "source": [
    "calculate_postman_solution_stats(circuit_rpp)"
   ]
  },
  {
   "cell_type": "markdown",
   "metadata": {},
   "source": [
    "Results Log:\n",
    "- 203.5127938140708 miles excluding optional roads > 400\n",
    "- 169.2348234543054 miles excluding optional roads > 800  \n",
    "- 151.43473114349692 miles excluding optional roads > 1600  \n",
    "- 144.1187638086149 miles excluding optional roads > 3200\n",
    "\n"
   ]
  },
  {
   "cell_type": "markdown",
   "metadata": {},
   "source": [
    "### Viz RPP graph\n",
    "\n",
    "#### create RPP granular graph\n",
    "\n",
    "TODO: This shortest path calc should not be needed anymore... we should be able to grab this from `path` in circuit_rpp."
   ]
  },
  {
   "cell_type": "code",
   "execution_count": 411,
   "metadata": {
    "collapsed": true
   },
   "outputs": [],
   "source": [
    "optional_edges = [[doc[0], doc[1]] for doc in circuit_rpp if doc[3]['required']==0]"
   ]
  },
  {
   "cell_type": "code",
   "execution_count": 410,
   "metadata": {
    "collapsed": false
   },
   "outputs": [],
   "source": [
    "# calc shortest path between optional nodes and add to g1component graph\n",
    "for e in optional_edges:\n",
    "    \n",
    "    # add granular edges to g1component\n",
    "    # TODO: shouldn't need this anymore since path is in edge attributes\n",
    "    path = nx.dijkstra_path(g_ud, e[0], e[1], 'length')\n",
    "    for pair in list(zip(path[:-1], path[1:])):\n",
    "        g1component.add_edge(pair[0], pair[1], granular='True', granular_type='optional')\n",
    "    \n",
    "    # add granular connector nodes to graph\n",
    "    for n in path:\n",
    "        g1component.add_node(n, lat=g.node[n]['lat'], lon=g.node[n]['lon'])\n"
   ]
  },
  {
   "cell_type": "code",
   "execution_count": 573,
   "metadata": {
    "collapsed": false
   },
   "outputs": [
    {
     "data": {
      "text/plain": [
       "('3010850865',\n",
       " '3010850854',\n",
       " 0,\n",
       " {'distance': 17.269866171653618,\n",
       "  'distance_haversine': 16.393431366587933,\n",
       "  'id': 383,\n",
       "  'path': ['3010850865', '3010850866', '3010850854'],\n",
       "  'required': 1})"
      ]
     },
     "execution_count": 573,
     "metadata": {},
     "output_type": "execute_result"
    }
   ],
   "source": [
    "circuit_rpp[1]"
   ]
  },
  {
   "cell_type": "markdown",
   "metadata": {},
   "source": [
    "#### create graphs and visualize"
   ]
  },
  {
   "cell_type": "code",
   "execution_count": 574,
   "metadata": {
    "collapsed": false
   },
   "outputs": [],
   "source": [
    "fig, ax = plt.subplots()\n",
    "\n",
    "g1component_subconnector = g1component.copy()\n",
    "g1component_st = g1component.copy()\n",
    "g1component_opt = g1component.copy()\n",
    "\n",
    "for e in g1component.edges(data=True):\n",
    "    if e[2].get('granular_type') != 'connector':\n",
    "        g1component_subconnector.remove_edge(e[0], e[1])\n",
    "\n",
    "for e in g1component.edges(data=True):\n",
    "    if e[2].get('granular_type') != 'state':\n",
    "        g1component_st.remove_edge(e[0], e[1])\n",
    "\n",
    "for e in g1component.edges(data=True):\n",
    "    if e[2].get('granular_type') != 'optional':\n",
    "        g1component_opt.remove_edge(e[0], e[1])\n",
    "\n",
    "        \n",
    "pos = {k: (float(g1component_subconnector.node[k]['lon']), float(g1component_subconnector.node[k]['lat'])) for k in g1component_subconnector.nodes()}    \n",
    "nx.draw_networkx_edges(g1component_subconnector, pos, width=6, edge_color='blue', arrows=False)\n",
    "\n",
    "pos_st = {k: (float(g1component_st.node[k]['lon']), float(g1component_st.node[k]['lat'])) for k in g1component_st.nodes()}    \n",
    "nx.draw_networkx_edges(g1component_st, pos_st, width=4, edge_color='black', arrows=False)\n",
    "\n",
    "pos_opt = {k: (float(g1component_opt.node[k]['lon']), float(g1component_opt.node[k]['lat'])) for k in g1component_opt.nodes()}    \n",
    "nx.draw_networkx_edges(g1component_opt, pos_opt, width=2, edge_color='blue', arrows=False)\n",
    "\n",
    "mplleaflet.show(fig=ax.figure)"
   ]
  },
  {
   "cell_type": "markdown",
   "metadata": {},
   "source": [
    "### Viz circuit_rpp solution"
   ]
  },
  {
   "cell_type": "code",
   "execution_count": 720,
   "metadata": {
    "collapsed": false
   },
   "outputs": [],
   "source": [
    "## Create graph directly from rpp_circuit and original graph w lat/lon (g_ud)\n",
    "color_seq = [None, 'black', 'red', 'purple']\n",
    "grppviz = nx.Graph()\n",
    "edges_cnt = Counter([tuple(sorted([e[0], e[1]])) for e in circuit_rpp])\n",
    "\n",
    "for e in circuit_rpp:\n",
    "    for n1, n2 in zip(e[3]['path'][:-1], e[3]['path'][1:]):\n",
    "        if grppviz.has_edge(n1, n2):\n",
    "            grppviz[n1][n2]['linewidth'] += 2\n",
    "            grppviz[n1][n2]['cnt'] += 1\n",
    "        else:                \n",
    "            grppviz.add_edge(n1, n2, linewidth=2.5)\n",
    "            grppviz[n1][n2]['color_st'] = 'black' if g_st.has_edge(n1, n2) else 'red'\n",
    "            grppviz[n1][n2]['cnt'] = 1\n",
    "            grppviz.add_node(n1, lat=g_ud.node[n1]['lat'], lon=g_ud.node[n1]['lon'])\n",
    "            grppviz.add_node(n2, lat=g_ud.node[n2]['lat'], lon=g_ud.node[n2]['lon']) \n",
    "\n",
    "for e in grppviz.edges(data=True):\n",
    "    e[2]['color_cnt'] = color_seq[e[2]['cnt']]\n"
   ]
  },
  {
   "cell_type": "code",
   "execution_count": 721,
   "metadata": {
    "collapsed": false
   },
   "outputs": [
    {
     "name": "stderr",
     "output_type": "stream",
     "text": [
      "/Users/ajb/anaconda/lib/python3.5/site-packages/matplotlib/pyplot.py:524: RuntimeWarning: More than 20 figures have been opened. Figures created through the pyplot interface (`matplotlib.pyplot.figure`) are retained until explicitly closed and may consume too much memory. (To control this warning, see the rcParam `figure.max_open_warning`).\n",
      "  max_open_warning, RuntimeWarning)\n"
     ]
    }
   ],
   "source": [
    "fig, ax = plt.subplots()\n",
    "\n",
    "pos = {k: (float(grppviz.node[k]['lon']), float(grppviz.node[k]['lat'])) for k in grppviz.nodes()}    \n",
    "e_width = [e[2]['linewidth'] for e in grppviz.edges(data=True)]\n",
    "e_color = [e[2]['color_cnt'] for e in grppviz.edges(data=True)]\n",
    "nx.draw_networkx_edges(grppviz, pos, width=e_width, edge_color=e_color, arrows=False, alpha=0.8)\n",
    "\n",
    "mplleaflet.show(fig=ax.figure)\n"
   ]
  },
  {
   "cell_type": "code",
   "execution_count": null,
   "metadata": {
    "collapsed": true
   },
   "outputs": [],
   "source": []
  }
 ],
 "metadata": {
  "anaconda-cloud": {},
  "kernelspec": {
   "display_name": "Python [conda root]",
   "language": "python",
   "name": "conda-root-py"
  },
  "language_info": {
   "codemirror_mode": {
    "name": "ipython",
    "version": 3
   },
   "file_extension": ".py",
   "mimetype": "text/x-python",
   "name": "python",
   "nbconvert_exporter": "python",
   "pygments_lexer": "ipython3",
   "version": "3.5.2"
  },
  "toc": {
   "nav_menu": {},
   "number_sections": true,
   "sideBar": true,
   "skip_h1_title": false,
   "toc_cell": false,
   "toc_position": {},
   "toc_section_display": "block",
   "toc_window_display": false
  }
 },
 "nbformat": 4,
 "nbformat_minor": 1
}
